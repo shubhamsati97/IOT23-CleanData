{
 "cells": [
  {
   "cell_type": "code",
   "execution_count": 1,
   "id": "6084587f",
   "metadata": {
    "pycharm": {
     "name": "#%%\n"
    }
   },
   "outputs": [
    {
     "data": {
      "text/plain": [
       "['/home/mohit/IOT23New/data/CTU-IoT-Malware-Capture-35-1.csv',\n",
       " '/home/mohit/IOT23New/data/CTU-IoT-Malware-Capture-34-1.csv',\n",
       " '/home/mohit/IOT23New/data/CTU-IoT-Malware-Capture-60-1.csv',\n",
       " '/home/mohit/IOT23New/data/CTU-IoT-Malware-Capture-48-1.csv',\n",
       " '/home/mohit/IOT23New/data/CTU-IoT-Malware-Capture-20-1.csv',\n",
       " '/home/mohit/IOT23New/data/CTU-IoT-Malware-Capture-49-1.csv',\n",
       " '/home/mohit/IOT23New/data/CTU-IoT-Malware-Capture-52-1.csv',\n",
       " '/home/mohit/IOT23New/data/CTU-IoT-Malware-Capture-33-1.csv',\n",
       " '/home/mohit/IOT23New/data/CTU-IoT-Malware-Capture-1-1.csv',\n",
       " '/home/mohit/IOT23New/data/CTU-IoT-Malware-Capture-9-1.csv',\n",
       " '/home/mohit/IOT23New/data/CTU-IoT-Malware-Capture-43-1.csv',\n",
       " '/home/mohit/IOT23New/data/CTU-IoT-Malware-Capture-7-1.csv',\n",
       " '/home/mohit/IOT23New/data/CTU-Honeypot-Capture-7-1.csv',\n",
       " '/home/mohit/IOT23New/data/CTU-IoT-Malware-Capture-21-1.csv',\n",
       " '/home/mohit/IOT23New/data/CTU-IoT-Malware-Capture-39-1.csv',\n",
       " '/home/mohit/IOT23New/data/CTU-IoT-Malware-Capture-3-1.csv',\n",
       " '/home/mohit/IOT23New/data/CTU-IoT-Malware-Capture-17-1.csv',\n",
       " '/home/mohit/IOT23New/data/CTU-Honeypot-Capture-4-1.csv',\n",
       " '/home/mohit/IOT23New/data/CTU-IoT-Malware-Capture-8-1.csv',\n",
       " '/home/mohit/IOT23New/data/CTU-IoT-Malware-Capture-36-1.csv',\n",
       " '/home/mohit/IOT23New/data/CTU-IoT-Malware-Capture-44-1.csv',\n",
       " '/home/mohit/IOT23New/data/CTU-Honeypot-Capture-5-1.csv',\n",
       " '/home/mohit/IOT23New/data/CTU-IoT-Malware-Capture-42-1.csv']"
      ]
     },
     "execution_count": 1,
     "metadata": {},
     "output_type": "execute_result"
    }
   ],
   "source": [
    "import pathlib\n",
    "import pandas as pd\n",
    "iot_23 = pathlib.Path(\"/home/mohit/IOT23New/data\")\n",
    "files = list(iot_23.rglob(\"*.csv\"))\n",
    "files = [str(file) for file in files]\n",
    "files"
   ]
  },
  {
   "cell_type": "code",
   "execution_count": 2,
   "id": "5030e3e3",
   "metadata": {
    "pycharm": {
     "name": "#%%\n"
    }
   },
   "outputs": [],
   "source": [
    "label_map = {'-   Malicious   PartOfAHorizontalPortScan': 'PartOfAHorizontalPortScan',\n",
    "             '(empty   Malicious   PartOfAHorizontalPortScan': 'PartOfAHorizontalPortScan',\n",
    "             '-   Malicious   Okiru': 'Okiru',\n",
    "             '(empty   Malicious   Okiru': 'Okiru',\n",
    "             '-   Benign   -': 'Benign',\n",
    "             '(empty   Benign   -': 'Benign',\n",
    "             '-   Malicious   DDoS': 'DDoS',\n",
    "             '-   Malicious   C&C': 'C&C',\n",
    "             '(empty   Malicious   C&C': 'C&C',\n",
    "             '-   Malicious   Attack': 'Attack',\n",
    "             '(empty   Malicious   Attack': 'Attack',\n",
    "             '-   Malicious   C&C-HeartBeat': 'C&C-HeartBeat',\n",
    "             '(empty   Malicious   C&C-HeartBeat': 'C&C-HeartBeat',\n",
    "             '-   Malicious   C&C-FileDownload': 'C&C-FileDownload',\n",
    "             '-   Malicious   C&C-Torii': 'C&C-Torii',\n",
    "             '-   Malicious   C&C-HeartBeat-FileDownload': 'C&C-HeartBeat-FileDownload',\n",
    "             '-   Malicious   FileDownload': 'FileDownload',\n",
    "             '-   Malicious   C&C-Mirai': 'C&C-Mirai',\n",
    "             '-   Malicious   Okiru-Attack': 'Okiru-Attack'}"
   ]
  },
  {
   "cell_type": "code",
   "execution_count": 5,
   "id": "5699bbee",
   "metadata": {
    "pycharm": {
     "name": "#%%\n"
    }
   },
   "outputs": [],
   "source": [
    "def df_cleaner(file:str):\n",
    "    df = pd.read_csv(file,low_memory=False)\n",
    "    \n",
    "    # Fix Labels\n",
    "    for key, val in label_map.items():\n",
    "        df['label'] = df.label.where(df.label == key, val)\n",
    "\n",
    "    # Replace '-' with 0\n",
    "    df['duration'] = df['duration'].str.replace('-', '0')\n",
    "    df['orig_bytes'] = df['orig_bytes'].str.replace('-', '0')\n",
    "    df['resp_bytes'] = df['resp_bytes'].str.replace('-', '0')\n",
    "    return df"
   ]
  },
  {
   "cell_type": "code",
   "execution_count": 6,
   "id": "49518e63",
   "metadata": {
    "pycharm": {
     "name": "#%%\n"
    }
   },
   "outputs": [
    {
     "name": "stdout",
     "output_type": "stream",
     "text": [
      "--- 80.01992774009705 seconds ---\n",
      "--- 0.6068844795227051 seconds ---\n",
      "--- 25.03418755531311 seconds ---\n",
      "--- 25.72958731651306 seconds ---\n",
      "--- 0.08110976219177246 seconds ---\n",
      "--- 41.04695963859558 seconds ---\n",
      "--- 151.9735267162323 seconds ---\n",
      "--- 417.557377576828 seconds ---\n",
      "--- 12.279464483261108 seconds ---\n",
      "--- 48.64286684989929 seconds ---\n",
      "--- 516.9114851951599 seconds ---\n",
      "--- 94.45797157287598 seconds ---\n"
     ]
    },
    {
     "ename": "AttributeError",
     "evalue": "Can only use .str accessor with string values!",
     "output_type": "error",
     "traceback": [
      "\u001B[0;31m---------------------------------------------------------------------------\u001B[0m",
      "\u001B[0;31mAttributeError\u001B[0m                            Traceback (most recent call last)",
      "Cell \u001B[0;32mIn[6], line 6\u001B[0m\n\u001B[1;32m      4\u001B[0m     start_time \u001B[38;5;241m=\u001B[39m time\u001B[38;5;241m.\u001B[39mtime()\n\u001B[1;32m      5\u001B[0m     file_name \u001B[38;5;241m=\u001B[39m file\u001B[38;5;241m.\u001B[39msplit(\u001B[38;5;124m'\u001B[39m\u001B[38;5;124m/\u001B[39m\u001B[38;5;124m'\u001B[39m)[\u001B[38;5;241m-\u001B[39m\u001B[38;5;241m1\u001B[39m]\n\u001B[0;32m----> 6\u001B[0m     result \u001B[38;5;241m=\u001B[39m \u001B[43mdf_cleaner\u001B[49m\u001B[43m(\u001B[49m\u001B[43mfile\u001B[49m\u001B[38;5;241;43m=\u001B[39;49m\u001B[43mfile\u001B[49m\u001B[43m)\u001B[49m\n\u001B[1;32m      7\u001B[0m \u001B[38;5;66;03m#     print(result.head())\u001B[39;00m\n\u001B[1;32m      8\u001B[0m \u001B[38;5;66;03m#     print(result.dtypes)\u001B[39;00m\n\u001B[1;32m      9\u001B[0m     result\u001B[38;5;241m.\u001B[39mto_csv(\u001B[38;5;124mf\u001B[39m\u001B[38;5;124m\"\u001B[39m\u001B[38;5;124mdata_new/\u001B[39m\u001B[38;5;132;01m{\u001B[39;00mfile_name\u001B[38;5;132;01m}\u001B[39;00m\u001B[38;5;124m\"\u001B[39m)\n",
      "Cell \u001B[0;32mIn[5], line 9\u001B[0m, in \u001B[0;36mdf_cleaner\u001B[0;34m(file)\u001B[0m\n\u001B[1;32m      6\u001B[0m     df[\u001B[38;5;124m'\u001B[39m\u001B[38;5;124mlabel\u001B[39m\u001B[38;5;124m'\u001B[39m] \u001B[38;5;241m=\u001B[39m df\u001B[38;5;241m.\u001B[39mlabel\u001B[38;5;241m.\u001B[39mwhere(df\u001B[38;5;241m.\u001B[39mlabel \u001B[38;5;241m==\u001B[39m key, val)\n\u001B[1;32m      8\u001B[0m \u001B[38;5;66;03m# Replace '-' with 0\u001B[39;00m\n\u001B[0;32m----> 9\u001B[0m df[\u001B[38;5;124m'\u001B[39m\u001B[38;5;124mduration\u001B[39m\u001B[38;5;124m'\u001B[39m] \u001B[38;5;241m=\u001B[39m \u001B[43mdf\u001B[49m\u001B[43m[\u001B[49m\u001B[38;5;124;43m'\u001B[39;49m\u001B[38;5;124;43mduration\u001B[39;49m\u001B[38;5;124;43m'\u001B[39;49m\u001B[43m]\u001B[49m\u001B[38;5;241;43m.\u001B[39;49m\u001B[43mstr\u001B[49m\u001B[38;5;241m.\u001B[39mreplace(\u001B[38;5;124m'\u001B[39m\u001B[38;5;124m-\u001B[39m\u001B[38;5;124m'\u001B[39m, \u001B[38;5;124m'\u001B[39m\u001B[38;5;124m0\u001B[39m\u001B[38;5;124m'\u001B[39m)\n\u001B[1;32m     10\u001B[0m df[\u001B[38;5;124m'\u001B[39m\u001B[38;5;124morig_bytes\u001B[39m\u001B[38;5;124m'\u001B[39m] \u001B[38;5;241m=\u001B[39m df[\u001B[38;5;124m'\u001B[39m\u001B[38;5;124morig_bytes\u001B[39m\u001B[38;5;124m'\u001B[39m]\u001B[38;5;241m.\u001B[39mstr\u001B[38;5;241m.\u001B[39mreplace(\u001B[38;5;124m'\u001B[39m\u001B[38;5;124m-\u001B[39m\u001B[38;5;124m'\u001B[39m, \u001B[38;5;124m'\u001B[39m\u001B[38;5;124m0\u001B[39m\u001B[38;5;124m'\u001B[39m)\n\u001B[1;32m     11\u001B[0m df[\u001B[38;5;124m'\u001B[39m\u001B[38;5;124mresp_bytes\u001B[39m\u001B[38;5;124m'\u001B[39m] \u001B[38;5;241m=\u001B[39m df[\u001B[38;5;124m'\u001B[39m\u001B[38;5;124mresp_bytes\u001B[39m\u001B[38;5;124m'\u001B[39m]\u001B[38;5;241m.\u001B[39mstr\u001B[38;5;241m.\u001B[39mreplace(\u001B[38;5;124m'\u001B[39m\u001B[38;5;124m-\u001B[39m\u001B[38;5;124m'\u001B[39m, \u001B[38;5;124m'\u001B[39m\u001B[38;5;124m0\u001B[39m\u001B[38;5;124m'\u001B[39m)\n",
      "File \u001B[0;32m~/.local/lib/python3.8/site-packages/pandas/core/generic.py:5902\u001B[0m, in \u001B[0;36mNDFrame.__getattr__\u001B[0;34m(self, name)\u001B[0m\n\u001B[1;32m   5895\u001B[0m \u001B[38;5;28;01mif\u001B[39;00m (\n\u001B[1;32m   5896\u001B[0m     name \u001B[38;5;129;01mnot\u001B[39;00m \u001B[38;5;129;01min\u001B[39;00m \u001B[38;5;28mself\u001B[39m\u001B[38;5;241m.\u001B[39m_internal_names_set\n\u001B[1;32m   5897\u001B[0m     \u001B[38;5;129;01mand\u001B[39;00m name \u001B[38;5;129;01mnot\u001B[39;00m \u001B[38;5;129;01min\u001B[39;00m \u001B[38;5;28mself\u001B[39m\u001B[38;5;241m.\u001B[39m_metadata\n\u001B[1;32m   5898\u001B[0m     \u001B[38;5;129;01mand\u001B[39;00m name \u001B[38;5;129;01mnot\u001B[39;00m \u001B[38;5;129;01min\u001B[39;00m \u001B[38;5;28mself\u001B[39m\u001B[38;5;241m.\u001B[39m_accessors\n\u001B[1;32m   5899\u001B[0m     \u001B[38;5;129;01mand\u001B[39;00m \u001B[38;5;28mself\u001B[39m\u001B[38;5;241m.\u001B[39m_info_axis\u001B[38;5;241m.\u001B[39m_can_hold_identifiers_and_holds_name(name)\n\u001B[1;32m   5900\u001B[0m ):\n\u001B[1;32m   5901\u001B[0m     \u001B[38;5;28;01mreturn\u001B[39;00m \u001B[38;5;28mself\u001B[39m[name]\n\u001B[0;32m-> 5902\u001B[0m \u001B[38;5;28;01mreturn\u001B[39;00m \u001B[38;5;28;43mobject\u001B[39;49m\u001B[38;5;241;43m.\u001B[39;49m\u001B[38;5;21;43m__getattribute__\u001B[39;49m\u001B[43m(\u001B[49m\u001B[38;5;28;43mself\u001B[39;49m\u001B[43m,\u001B[49m\u001B[43m \u001B[49m\u001B[43mname\u001B[49m\u001B[43m)\u001B[49m\n",
      "File \u001B[0;32m~/.local/lib/python3.8/site-packages/pandas/core/accessor.py:182\u001B[0m, in \u001B[0;36mCachedAccessor.__get__\u001B[0;34m(self, obj, cls)\u001B[0m\n\u001B[1;32m    179\u001B[0m \u001B[38;5;28;01mif\u001B[39;00m obj \u001B[38;5;129;01mis\u001B[39;00m \u001B[38;5;28;01mNone\u001B[39;00m:\n\u001B[1;32m    180\u001B[0m     \u001B[38;5;66;03m# we're accessing the attribute of the class, i.e., Dataset.geo\u001B[39;00m\n\u001B[1;32m    181\u001B[0m     \u001B[38;5;28;01mreturn\u001B[39;00m \u001B[38;5;28mself\u001B[39m\u001B[38;5;241m.\u001B[39m_accessor\n\u001B[0;32m--> 182\u001B[0m accessor_obj \u001B[38;5;241m=\u001B[39m \u001B[38;5;28;43mself\u001B[39;49m\u001B[38;5;241;43m.\u001B[39;49m\u001B[43m_accessor\u001B[49m\u001B[43m(\u001B[49m\u001B[43mobj\u001B[49m\u001B[43m)\u001B[49m\n\u001B[1;32m    183\u001B[0m \u001B[38;5;66;03m# Replace the property with the accessor object. Inspired by:\u001B[39;00m\n\u001B[1;32m    184\u001B[0m \u001B[38;5;66;03m# https://www.pydanny.com/cached-property.html\u001B[39;00m\n\u001B[1;32m    185\u001B[0m \u001B[38;5;66;03m# We need to use object.__setattr__ because we overwrite __setattr__ on\u001B[39;00m\n\u001B[1;32m    186\u001B[0m \u001B[38;5;66;03m# NDFrame\u001B[39;00m\n\u001B[1;32m    187\u001B[0m \u001B[38;5;28mobject\u001B[39m\u001B[38;5;241m.\u001B[39m\u001B[38;5;21m__setattr__\u001B[39m(obj, \u001B[38;5;28mself\u001B[39m\u001B[38;5;241m.\u001B[39m_name, accessor_obj)\n",
      "File \u001B[0;32m~/.local/lib/python3.8/site-packages/pandas/core/strings/accessor.py:181\u001B[0m, in \u001B[0;36mStringMethods.__init__\u001B[0;34m(self, data)\u001B[0m\n\u001B[1;32m    178\u001B[0m \u001B[38;5;28;01mdef\u001B[39;00m \u001B[38;5;21m__init__\u001B[39m(\u001B[38;5;28mself\u001B[39m, data) \u001B[38;5;241m-\u001B[39m\u001B[38;5;241m>\u001B[39m \u001B[38;5;28;01mNone\u001B[39;00m:\n\u001B[1;32m    179\u001B[0m     \u001B[38;5;28;01mfrom\u001B[39;00m \u001B[38;5;21;01mpandas\u001B[39;00m\u001B[38;5;21;01m.\u001B[39;00m\u001B[38;5;21;01mcore\u001B[39;00m\u001B[38;5;21;01m.\u001B[39;00m\u001B[38;5;21;01marrays\u001B[39;00m\u001B[38;5;21;01m.\u001B[39;00m\u001B[38;5;21;01mstring_\u001B[39;00m \u001B[38;5;28;01mimport\u001B[39;00m StringDtype\n\u001B[0;32m--> 181\u001B[0m     \u001B[38;5;28mself\u001B[39m\u001B[38;5;241m.\u001B[39m_inferred_dtype \u001B[38;5;241m=\u001B[39m \u001B[38;5;28;43mself\u001B[39;49m\u001B[38;5;241;43m.\u001B[39;49m\u001B[43m_validate\u001B[49m\u001B[43m(\u001B[49m\u001B[43mdata\u001B[49m\u001B[43m)\u001B[49m\n\u001B[1;32m    182\u001B[0m     \u001B[38;5;28mself\u001B[39m\u001B[38;5;241m.\u001B[39m_is_categorical \u001B[38;5;241m=\u001B[39m is_categorical_dtype(data\u001B[38;5;241m.\u001B[39mdtype)\n\u001B[1;32m    183\u001B[0m     \u001B[38;5;28mself\u001B[39m\u001B[38;5;241m.\u001B[39m_is_string \u001B[38;5;241m=\u001B[39m \u001B[38;5;28misinstance\u001B[39m(data\u001B[38;5;241m.\u001B[39mdtype, StringDtype)\n",
      "File \u001B[0;32m~/.local/lib/python3.8/site-packages/pandas/core/strings/accessor.py:235\u001B[0m, in \u001B[0;36mStringMethods._validate\u001B[0;34m(data)\u001B[0m\n\u001B[1;32m    232\u001B[0m inferred_dtype \u001B[38;5;241m=\u001B[39m lib\u001B[38;5;241m.\u001B[39minfer_dtype(values, skipna\u001B[38;5;241m=\u001B[39m\u001B[38;5;28;01mTrue\u001B[39;00m)\n\u001B[1;32m    234\u001B[0m \u001B[38;5;28;01mif\u001B[39;00m inferred_dtype \u001B[38;5;129;01mnot\u001B[39;00m \u001B[38;5;129;01min\u001B[39;00m allowed_types:\n\u001B[0;32m--> 235\u001B[0m     \u001B[38;5;28;01mraise\u001B[39;00m \u001B[38;5;167;01mAttributeError\u001B[39;00m(\u001B[38;5;124m\"\u001B[39m\u001B[38;5;124mCan only use .str accessor with string values!\u001B[39m\u001B[38;5;124m\"\u001B[39m)\n\u001B[1;32m    236\u001B[0m \u001B[38;5;28;01mreturn\u001B[39;00m inferred_dtype\n",
      "\u001B[0;31mAttributeError\u001B[0m: Can only use .str accessor with string values!"
     ]
    }
   ],
   "source": [
    "import time\n",
    "tot_start = time.time()\n",
    "for file in files:\n",
    "    start_time = time.time()\n",
    "    file_name = file.split('/')[-1]\n",
    "    result = df_cleaner(file=file)\n",
    "#     print(result.head())\n",
    "#     print(result.dtypes)\n",
    "    result.to_csv(f\"data_new/{file_name}\")\n",
    "    print(\"--- %s seconds ---\" % (time.time() - start_time))\n",
    "print(f\"Total Time : {time.time() - tot_start}\")"
   ]
  }
 ],
 "metadata": {
  "kernelspec": {
   "display_name": "Python 3 (ipykernel)",
   "language": "python",
   "name": "python3"
  },
  "language_info": {
   "codemirror_mode": {
    "name": "ipython",
    "version": 3
   },
   "file_extension": ".py",
   "mimetype": "text/x-python",
   "name": "python",
   "nbconvert_exporter": "python",
   "pygments_lexer": "ipython3",
   "version": "3.8.10"
  }
 },
 "nbformat": 4,
 "nbformat_minor": 5
}