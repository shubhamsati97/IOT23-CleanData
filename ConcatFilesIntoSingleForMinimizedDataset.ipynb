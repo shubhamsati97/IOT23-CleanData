{
 "cells": [
  {
   "cell_type": "code",
   "execution_count": 1,
   "id": "af5d6eae",
   "metadata": {},
   "outputs": [
    {
     "data": {
      "text/plain": [
       "['/home/mohit/IOT23New/data_min/CTU-IoT-Malware-Capture-35-1.csv',\n",
       " '/home/mohit/IOT23New/data_min/CTU-IoT-Malware-Capture-34-1.csv',\n",
       " '/home/mohit/IOT23New/data_min/CTU-IoT-Malware-Capture-60-1.csv',\n",
       " '/home/mohit/IOT23New/data_min/CTU-IoT-Malware-Capture-48-1.csv',\n",
       " '/home/mohit/IOT23New/data_min/CTU-IoT-Malware-Capture-20-1.csv',\n",
       " '/home/mohit/IOT23New/data_min/CTU-IoT-Malware-Capture-49-1.csv',\n",
       " '/home/mohit/IOT23New/data_min/CTU-IoT-Malware-Capture-52-1.csv',\n",
       " '/home/mohit/IOT23New/data_min/CTU-IoT-Malware-Capture-33-1.csv',\n",
       " '/home/mohit/IOT23New/data_min/CTU-IoT-Malware-Capture-1-1.csv',\n",
       " '/home/mohit/IOT23New/data_min/CTU-IoT-Malware-Capture-9-1.csv',\n",
       " '/home/mohit/IOT23New/data_min/CTU-IoT-Malware-Capture-43-1.csv',\n",
       " '/home/mohit/IOT23New/data_min/CTU-IoT-Malware-Capture-7-1.csv']"
      ]
     },
     "execution_count": 1,
     "metadata": {},
     "output_type": "execute_result"
    }
   ],
   "source": [
    "import pathlib\n",
    "import pandas as pd\n",
    "iot_23 = pathlib.Path(\"/home/mohit/IOT23New/data_min\")\n",
    "files = list(iot_23.rglob(\"*.csv\"))\n",
    "files = [str(file) for file in files]\n",
    "files"
   ]
  },
  {
   "cell_type": "code",
   "execution_count": 4,
   "id": "03942a58",
   "metadata": {},
   "outputs": [],
   "source": [
    "consolidated_df = pd.DataFrame()\n",
    "for file in files:\n",
    "    #Keep 5 percent of the dataset\n",
    "    df = pd.read_csv(file)\n",
    "    consolidated_df = pd.concat([consolidated_df, df])\n",
    "consolidated_df = consolidated_df.drop(consolidated_df.columns[[0, 1, 2]], axis=1)\n",
    "# print(consolidated_df.head())\n",
    "consolidated_df.to_csv(f\"consolidated_min_file.csv\")"
   ]
  }
 ],
 "metadata": {
  "kernelspec": {
   "display_name": "Python 3 (ipykernel)",
   "language": "python",
   "name": "python3"
  },
  "language_info": {
   "codemirror_mode": {
    "name": "ipython",
    "version": 3
   },
   "file_extension": ".py",
   "mimetype": "text/x-python",
   "name": "python",
   "nbconvert_exporter": "python",
   "pygments_lexer": "ipython3",
   "version": "3.8.10"
  }
 },
 "nbformat": 4,
 "nbformat_minor": 5
}
