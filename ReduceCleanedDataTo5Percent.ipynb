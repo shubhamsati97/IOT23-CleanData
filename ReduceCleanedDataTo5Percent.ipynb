{
 "cells": [
  {
   "cell_type": "code",
   "execution_count": 6,
   "id": "555d560d",
   "metadata": {},
   "outputs": [
    {
     "name": "stdout",
     "output_type": "stream",
     "text": [
      "['/home/mohit/IOT23New/data_new/CTU-IoT-Malware-Capture-35-1.csv', '/home/mohit/IOT23New/data_new/CTU-IoT-Malware-Capture-34-1.csv', '/home/mohit/IOT23New/data_new/CTU-IoT-Malware-Capture-60-1.csv', '/home/mohit/IOT23New/data_new/CTU-IoT-Malware-Capture-48-1.csv', '/home/mohit/IOT23New/data_new/CTU-IoT-Malware-Capture-20-1.csv', '/home/mohit/IOT23New/data_new/CTU-IoT-Malware-Capture-49-1.csv', '/home/mohit/IOT23New/data_new/CTU-IoT-Malware-Capture-52-1.csv', '/home/mohit/IOT23New/data_new/CTU-IoT-Malware-Capture-33-1.csv', '/home/mohit/IOT23New/data_new/CTU-IoT-Malware-Capture-1-1.csv', '/home/mohit/IOT23New/data_new/CTU-IoT-Malware-Capture-9-1.csv', '/home/mohit/IOT23New/data_new/CTU-IoT-Malware-Capture-43-1.csv', '/home/mohit/IOT23New/data_new/CTU-IoT-Malware-Capture-7-1.csv']\n"
     ]
    }
   ],
   "source": [
    "import pathlib\n",
    "import pandas as pd\n",
    "iot_23 = pathlib.Path(\"/home/mohit/IOT23New/data_new\")\n",
    "files = list(iot_23.rglob(\"*.csv\"))\n",
    "files = [str(file) for file in files]\n",
    "print(files)"
   ]
  },
  {
   "cell_type": "code",
   "execution_count": 9,
   "id": "7c0aa139",
   "metadata": {},
   "outputs": [],
   "source": [
    "for file in files:\n",
    "    #Keep 5 percent of the dataset\n",
    "    df = pd.read_csv(file)\n",
    "    n_rows = int(len(df) * 0.05)\n",
    "#     print(df.head())\n",
    "    new_df = pd.DataFrame(columns=df.columns)\n",
    "    for category in df['label'].unique():\n",
    "        category_df = df[df['label'] == category]\n",
    "        category_rows = int(len(category_df) / len(df) * n_rows)\n",
    "        # Random state is seed value to ensure the same data is reproducible\n",
    "        sampled_df = category_df.sample(n=category_rows, random_state=42)\n",
    "        new_df = pd.concat([new_df, sampled_df])\n",
    "    file_name = file.split('/')[-1]\n",
    "    new_df.to_csv(f\"data_min/{file_name}\")\n",
    "    "
   ]
  },
  {
   "cell_type": "code",
   "execution_count": 8,
   "id": "b77eccc6",
   "metadata": {},
   "outputs": [
    {
     "data": {
      "text/plain": [
       "522389"
      ]
     },
     "execution_count": 8,
     "metadata": {},
     "output_type": "execute_result"
    }
   ],
   "source": []
  }
 ],
 "metadata": {
  "kernelspec": {
   "display_name": "Python 3 (ipykernel)",
   "language": "python",
   "name": "python3"
  },
  "language_info": {
   "codemirror_mode": {
    "name": "ipython",
    "version": 3
   },
   "file_extension": ".py",
   "mimetype": "text/x-python",
   "name": "python",
   "nbconvert_exporter": "python",
   "pygments_lexer": "ipython3",
   "version": "3.8.10"
  }
 },
 "nbformat": 4,
 "nbformat_minor": 5
}
