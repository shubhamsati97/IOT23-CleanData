{
 "cells": [
  {
   "cell_type": "code",
   "execution_count": 9,
   "id": "5947cbf7-1525-48d9-8d99-6b9d56e0ba15",
   "metadata": {
    "tags": [],
    "pycharm": {
     "name": "#%%\n"
    }
   },
   "outputs": [
    {
     "name": "stdout",
     "output_type": "stream",
     "text": [
      "24\n"
     ]
    }
   ],
   "source": [
    "# All files  in the path\n",
    "import pathlib\n",
    "iot_23 = pathlib.Path(\"iot_23\")\n",
    "files = list(iot_23.rglob(\"*.labeled\"))\n",
    "files = [str(file) for file in files]\n",
    "print(len(files))\n"
   ]
  },
  {
   "cell_type": "code",
   "execution_count": 2,
   "id": "04acef88-3de1-429f-aa45-07e154522d11",
   "metadata": {
    "pycharm": {
     "name": "#%%\n"
    }
   },
   "outputs": [],
   "source": [
    "file_name = \"iot_23/opt/Malware-Project/BigDataset/IoTScenarios/CTU-IoT-Malware-Capture-1-1/bro/conn.log.labeled\""
   ]
  },
  {
   "cell_type": "code",
   "execution_count": 52,
   "id": "f8bbd0b5-ab81-411c-8cf4-db4409e6ae80",
   "metadata": {
    "tags": [],
    "pycharm": {
     "name": "#%%\n"
    }
   },
   "outputs": [
    {
     "data": {
      "text/plain": [
       "21"
      ]
     },
     "execution_count": 52,
     "metadata": {},
     "output_type": "execute_result"
    }
   ],
   "source": [
    "# Get all columns from the file\n",
    "with open(file_name,'r') as f:\n",
    "    lines = f.readlines()\n",
    "    lines = x[:10]\n",
    "file_fields = lines[6].split('\\t')\n",
    "file_fields = file_fields[1:]\n",
    "len(file_fields)"
   ]
  },
  {
   "cell_type": "code",
   "execution_count": 39,
   "id": "5c932cab-8f11-49ed-baa1-1065d6307a4a",
   "metadata": {
    "tags": [],
    "pycharm": {
     "name": "#%%\n"
    }
   },
   "outputs": [],
   "source": [
    "# 1) Loading the dataset\n",
    "import pandas as pd\n",
    "df = pd.read_csv(file_name,skiprows=10, header=None)\n",
    "\n",
    "## Split using seperator \\t\n",
    "df = df[0].str.split(\"\\t\", expand=True)\n",
    "\n",
    "# Remove last row\n",
    "df=df.drop(df.index[-1])"
   ]
  },
  {
   "cell_type": "code",
   "execution_count": 49,
   "id": "08a96ce6-a05f-4802-8e51-1e60d6ea430a",
   "metadata": {
    "tags": [],
    "pycharm": {
     "name": "#%%\n"
    }
   },
   "outputs": [
    {
     "data": {
      "text/plain": [
       "0                                   1525879831.045045\n",
       "1                                   C3GBTkINvXNjVGtN5\n",
       "2                                     192.168.100.103\n",
       "3                                               41101\n",
       "4                                        111.40.23.49\n",
       "5                                                  23\n",
       "6                                                 tcp\n",
       "7                                                   -\n",
       "8                                                   -\n",
       "9                                                   -\n",
       "10                                                  -\n",
       "11                                                 S0\n",
       "12                                                  -\n",
       "13                                                  -\n",
       "14                                                  0\n",
       "15                                                  S\n",
       "16                                                  1\n",
       "17                                                 60\n",
       "18                                                  0\n",
       "19                                                  0\n",
       "20    (empty)   Malicious   PartOfAHorizontalPortScan\n",
       "Name: 0, dtype: object"
      ]
     },
     "execution_count": 49,
     "metadata": {},
     "output_type": "execute_result"
    }
   ],
   "source": [
    "#Display last row\n",
    "df.iloc[0]"
   ]
  },
  {
   "cell_type": "code",
   "execution_count": 53,
   "id": "9bd7f982-bbfa-4e6a-8318-ad5c8f36c5e3",
   "metadata": {
    "tags": [],
    "pycharm": {
     "name": "#%%\n"
    }
   },
   "outputs": [],
   "source": [
    "# Add column names to the dataframes\n",
    "df.columns = file_fields"
   ]
  },
  {
   "cell_type": "code",
   "execution_count": null,
   "id": "81503fb9-f3ee-4912-a18d-5fcd32bf6536",
   "metadata": {
    "pycharm": {
     "name": "#%%\n"
    }
   },
   "outputs": [],
   "source": [
    "#todo: Split the last column into 3"
   ]
  },
  {
   "cell_type": "code",
   "execution_count": 55,
   "id": "93c637d3-a131-4d83-a35c-74a483b7f586",
   "metadata": {
    "tags": [],
    "pycharm": {
     "name": "#%%\n"
    }
   },
   "outputs": [],
   "source": [
    "# 2) Formatting and pre-processing the dataset\n",
    "df = df.replace('-',0)\n",
    "\n",
    "## Remove columns with lesser correlation\n"
   ]
  },
  {
   "cell_type": "code",
   "execution_count": 56,
   "id": "533c7f88-d5e1-4044-94d0-08acbe1f57cb",
   "metadata": {
    "tags": [],
    "pycharm": {
     "name": "#%%\n"
    }
   },
   "outputs": [
    {
     "data": {
      "text/html": [
       "<div>\n",
       "<style scoped>\n",
       "    .dataframe tbody tr th:only-of-type {\n",
       "        vertical-align: middle;\n",
       "    }\n",
       "\n",
       "    .dataframe tbody tr th {\n",
       "        vertical-align: top;\n",
       "    }\n",
       "\n",
       "    .dataframe thead th {\n",
       "        text-align: right;\n",
       "    }\n",
       "</style>\n",
       "<table border=\"1\" class=\"dataframe\">\n",
       "  <thead>\n",
       "    <tr style=\"text-align: right;\">\n",
       "      <th></th>\n",
       "      <th>ts</th>\n",
       "      <th>uid</th>\n",
       "      <th>id.orig_h</th>\n",
       "      <th>id.orig_p</th>\n",
       "      <th>id.resp_h</th>\n",
       "      <th>id.resp_p</th>\n",
       "      <th>proto</th>\n",
       "      <th>service</th>\n",
       "      <th>duration</th>\n",
       "      <th>orig_bytes</th>\n",
       "      <th>...</th>\n",
       "      <th>conn_state</th>\n",
       "      <th>local_orig</th>\n",
       "      <th>local_resp</th>\n",
       "      <th>missed_bytes</th>\n",
       "      <th>history</th>\n",
       "      <th>orig_pkts</th>\n",
       "      <th>orig_ip_bytes</th>\n",
       "      <th>resp_pkts</th>\n",
       "      <th>resp_ip_bytes</th>\n",
       "      <th>tunnel_parents   label   detailed-label\\n</th>\n",
       "    </tr>\n",
       "  </thead>\n",
       "  <tbody>\n",
       "    <tr>\n",
       "      <th>0</th>\n",
       "      <td>1525879831.045045</td>\n",
       "      <td>C3GBTkINvXNjVGtN5</td>\n",
       "      <td>192.168.100.103</td>\n",
       "      <td>41101</td>\n",
       "      <td>111.40.23.49</td>\n",
       "      <td>23</td>\n",
       "      <td>tcp</td>\n",
       "      <td>0</td>\n",
       "      <td>0</td>\n",
       "      <td>0</td>\n",
       "      <td>...</td>\n",
       "      <td>S0</td>\n",
       "      <td>0</td>\n",
       "      <td>0</td>\n",
       "      <td>0</td>\n",
       "      <td>S</td>\n",
       "      <td>1</td>\n",
       "      <td>60</td>\n",
       "      <td>0</td>\n",
       "      <td>0</td>\n",
       "      <td>(empty)   Malicious   PartOfAHorizontalPortScan</td>\n",
       "    </tr>\n",
       "    <tr>\n",
       "      <th>1</th>\n",
       "      <td>1525879832.016240</td>\n",
       "      <td>CDe43c1PtgynajGI6</td>\n",
       "      <td>192.168.100.103</td>\n",
       "      <td>60905</td>\n",
       "      <td>131.174.215.147</td>\n",
       "      <td>23</td>\n",
       "      <td>tcp</td>\n",
       "      <td>0</td>\n",
       "      <td>2.998796</td>\n",
       "      <td>0</td>\n",
       "      <td>...</td>\n",
       "      <td>S0</td>\n",
       "      <td>0</td>\n",
       "      <td>0</td>\n",
       "      <td>0</td>\n",
       "      <td>S</td>\n",
       "      <td>3</td>\n",
       "      <td>180</td>\n",
       "      <td>0</td>\n",
       "      <td>0</td>\n",
       "      <td>(empty)   Malicious   PartOfAHorizontalPortScan</td>\n",
       "    </tr>\n",
       "    <tr>\n",
       "      <th>2</th>\n",
       "      <td>1525879832.024985</td>\n",
       "      <td>CJaDcG3MZzvf1YVYI4</td>\n",
       "      <td>192.168.100.103</td>\n",
       "      <td>44301</td>\n",
       "      <td>91.42.47.63</td>\n",
       "      <td>23</td>\n",
       "      <td>tcp</td>\n",
       "      <td>0</td>\n",
       "      <td>0</td>\n",
       "      <td>0</td>\n",
       "      <td>...</td>\n",
       "      <td>S0</td>\n",
       "      <td>0</td>\n",
       "      <td>0</td>\n",
       "      <td>0</td>\n",
       "      <td>S</td>\n",
       "      <td>1</td>\n",
       "      <td>60</td>\n",
       "      <td>0</td>\n",
       "      <td>0</td>\n",
       "      <td>(empty)   Malicious   PartOfAHorizontalPortScan</td>\n",
       "    </tr>\n",
       "    <tr>\n",
       "      <th>3</th>\n",
       "      <td>1525879832.044975</td>\n",
       "      <td>CMBrup3BLXivSp4Avc</td>\n",
       "      <td>192.168.100.103</td>\n",
       "      <td>50244</td>\n",
       "      <td>120.210.108.200</td>\n",
       "      <td>23</td>\n",
       "      <td>tcp</td>\n",
       "      <td>0</td>\n",
       "      <td>0</td>\n",
       "      <td>0</td>\n",
       "      <td>...</td>\n",
       "      <td>S0</td>\n",
       "      <td>0</td>\n",
       "      <td>0</td>\n",
       "      <td>0</td>\n",
       "      <td>S</td>\n",
       "      <td>1</td>\n",
       "      <td>60</td>\n",
       "      <td>0</td>\n",
       "      <td>0</td>\n",
       "      <td>(empty)   Malicious   PartOfAHorizontalPortScan</td>\n",
       "    </tr>\n",
       "    <tr>\n",
       "      <th>4</th>\n",
       "      <td>1525879833.016171</td>\n",
       "      <td>CfHl9r3XMYtDQRrHnh</td>\n",
       "      <td>192.168.100.103</td>\n",
       "      <td>34243</td>\n",
       "      <td>147.7.65.203</td>\n",
       "      <td>49560</td>\n",
       "      <td>tcp</td>\n",
       "      <td>0</td>\n",
       "      <td>2.998804</td>\n",
       "      <td>0</td>\n",
       "      <td>...</td>\n",
       "      <td>S0</td>\n",
       "      <td>0</td>\n",
       "      <td>0</td>\n",
       "      <td>0</td>\n",
       "      <td>S</td>\n",
       "      <td>3</td>\n",
       "      <td>180</td>\n",
       "      <td>0</td>\n",
       "      <td>0</td>\n",
       "      <td>(empty)   Benign   -</td>\n",
       "    </tr>\n",
       "  </tbody>\n",
       "</table>\n",
       "<p>5 rows × 21 columns</p>\n",
       "</div>"
      ],
      "text/plain": [
       "                  ts                 uid        id.orig_h id.orig_p  \\\n",
       "0  1525879831.045045   C3GBTkINvXNjVGtN5  192.168.100.103     41101   \n",
       "1  1525879832.016240   CDe43c1PtgynajGI6  192.168.100.103     60905   \n",
       "2  1525879832.024985  CJaDcG3MZzvf1YVYI4  192.168.100.103     44301   \n",
       "3  1525879832.044975  CMBrup3BLXivSp4Avc  192.168.100.103     50244   \n",
       "4  1525879833.016171  CfHl9r3XMYtDQRrHnh  192.168.100.103     34243   \n",
       "\n",
       "         id.resp_h id.resp_p proto service  duration orig_bytes  ...  \\\n",
       "0     111.40.23.49        23   tcp       0         0          0  ...   \n",
       "1  131.174.215.147        23   tcp       0  2.998796          0  ...   \n",
       "2      91.42.47.63        23   tcp       0         0          0  ...   \n",
       "3  120.210.108.200        23   tcp       0         0          0  ...   \n",
       "4     147.7.65.203     49560   tcp       0  2.998804          0  ...   \n",
       "\n",
       "  conn_state local_orig  local_resp  missed_bytes history orig_pkts  \\\n",
       "0         S0          0           0             0       S         1   \n",
       "1         S0          0           0             0       S         3   \n",
       "2         S0          0           0             0       S         1   \n",
       "3         S0          0           0             0       S         1   \n",
       "4         S0          0           0             0       S         3   \n",
       "\n",
       "  orig_ip_bytes resp_pkts resp_ip_bytes  \\\n",
       "0            60         0             0   \n",
       "1           180         0             0   \n",
       "2            60         0             0   \n",
       "3            60         0             0   \n",
       "4           180         0             0   \n",
       "\n",
       "         tunnel_parents   label   detailed-label\\n  \n",
       "0  (empty)   Malicious   PartOfAHorizontalPortScan  \n",
       "1  (empty)   Malicious   PartOfAHorizontalPortScan  \n",
       "2  (empty)   Malicious   PartOfAHorizontalPortScan  \n",
       "3  (empty)   Malicious   PartOfAHorizontalPortScan  \n",
       "4                             (empty)   Benign   -  \n",
       "\n",
       "[5 rows x 21 columns]"
      ]
     },
     "execution_count": 56,
     "metadata": {},
     "output_type": "execute_result"
    }
   ],
   "source": [
    "# Add a new field time_diff after sorting the dataframe based on ts"
   ]
  },
  {
   "cell_type": "code",
   "execution_count": null,
   "id": "eaee7116-c384-43e3-89be-69c48efc2036",
   "metadata": {
    "pycharm": {
     "name": "#%%\n"
    }
   },
   "outputs": [],
   "source": [
    "# Columns to be removed from Stoain results\n",
    "to_remove = [\"ts\",\"uid\",\"id.orig_h\",\"local_orig\",\"local_resp\",\"missed_bytes\",\"tunnel_parents\"]"
   ]
  },
  {
   "cell_type": "code",
   "execution_count": null,
   "id": "7452207e-3394-4c10-942b-384f4e255148",
   "metadata": {
    "pycharm": {
     "name": "#%%\n"
    }
   },
   "outputs": [],
   "source": [
    "#todo: Use OneHotEncoder for Label Encoding\n"
   ]
  }
 ],
 "metadata": {
  "kernelspec": {
   "display_name": "Python 3 (ipykernel)",
   "language": "python",
   "name": "python3"
  },
  "language_info": {
   "codemirror_mode": {
    "name": "ipython",
    "version": 3
   },
   "file_extension": ".py",
   "mimetype": "text/x-python",
   "name": "python",
   "nbconvert_exporter": "python",
   "pygments_lexer": "ipython3",
   "version": "3.10.10"
  }
 },
 "nbformat": 4,
 "nbformat_minor": 5
}